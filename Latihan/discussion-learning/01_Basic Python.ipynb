{
  "cells": [
    {
      "cell_type": "markdown",
      "metadata": {
        "id": "76D3lFef25Om"
      },
      "source": [
        "CODINGAN 1"
      ]
    },
    {
      "cell_type": "code",
      "execution_count": 1,
      "metadata": {
        "colab": {
          "base_uri": "https://localhost:8080/"
        },
        "id": "NTt5U99x2-Hk",
        "outputId": "acb9950f-e55b-49b7-de18-ad267ee8383b"
      },
      "outputs": [
        {
          "ename": "ValueError",
          "evalue": "invalid literal for int() with base 10: ''",
          "output_type": "error",
          "traceback": [
            "\u001b[1;31m---------------------------------------------------------------------------\u001b[0m",
            "\u001b[1;31mValueError\u001b[0m                                Traceback (most recent call last)",
            "Cell \u001b[1;32mIn [1], line 26\u001b[0m\n\u001b[0;32m     21\u001b[0m       \u001b[38;5;28mprint\u001b[39m(\u001b[38;5;124m'\u001b[39m\u001b[38;5;124mYear \u001b[39m\u001b[38;5;132;01m%i\u001b[39;00m\u001b[38;5;124m, your total investment : \u001b[39m\u001b[38;5;132;01m%.2f\u001b[39;00m\u001b[38;5;124m'\u001b[39m\u001b[38;5;241m%\u001b[39m(year, total))\n\u001b[0;32m     23\u001b[0m   \u001b[38;5;66;03m#-----End of Code Here---------\u001b[39;00m\n\u001b[0;32m     24\u001b[0m \n\u001b[0;32m     25\u001b[0m \u001b[38;5;66;03m#Don't change everything here\u001b[39;00m\n\u001b[1;32m---> 26\u001b[0m \u001b[43mcalculate_sugih\u001b[49m\u001b[43m(\u001b[49m\u001b[43m)\u001b[49m\n",
            "Cell \u001b[1;32mIn [1], line 2\u001b[0m, in \u001b[0;36mcalculate_sugih\u001b[1;34m()\u001b[0m\n\u001b[0;32m      1\u001b[0m \u001b[38;5;28;01mdef\u001b[39;00m \u001b[38;5;21mcalculate_sugih\u001b[39m():\n\u001b[1;32m----> 2\u001b[0m   cap \u001b[38;5;241m=\u001b[39m \u001b[38;5;28;43mint\u001b[39;49m\u001b[43m(\u001b[49m\u001b[38;5;28;43minput\u001b[39;49m\u001b[43m(\u001b[49m\u001b[38;5;124;43m'\u001b[39;49m\u001b[38;5;124;43mInput money capital : \u001b[39;49m\u001b[38;5;124;43m'\u001b[39;49m\u001b[43m)\u001b[49m\u001b[43m)\u001b[49m\n\u001b[0;32m      3\u001b[0m   ten \u001b[38;5;241m=\u001b[39m \u001b[38;5;28mint\u001b[39m(\u001b[38;5;28minput\u001b[39m(\u001b[38;5;124m'\u001b[39m\u001b[38;5;124mInput investment tenure (year) : \u001b[39m\u001b[38;5;124m'\u001b[39m))\n\u001b[0;32m      5\u001b[0m   \u001b[38;5;66;03m#-----Start Code Here---------\u001b[39;00m\n\u001b[0;32m      6\u001b[0m \n\u001b[0;32m      7\u001b[0m   \u001b[38;5;66;03m#first and seconde condition for maximum money capital and tenure limit\u001b[39;00m\n",
            "\u001b[1;31mValueError\u001b[0m: invalid literal for int() with base 10: ''"
          ]
        }
      ],
      "source": [
        "def calculate_sugih():\n",
        "    cap = int(input('Input money capital : '))\n",
        "    ten = int(input('Input investment tenure (year) : '))\n",
        "\n",
        "    #-----Start Code Here---------\n",
        "\n",
        "    #first and seconde condition for maximum money capital and tenure limit\n",
        "    if not(cap >0 and cap <=1000000000):\n",
        "        print(\"you get maximum money capital 0 - 1.000.000.000, your capital is %i\" %cap)\n",
        "    elif not(ten >=1 and ten <= 25):\n",
        "        print(\"you get maximum tenure limit 1 - 25 in term of year, your term is %i\" %ten)\n",
        "    else:\n",
        "        #initiate year\n",
        "        year = 0\n",
        "        total = cap\n",
        "        #begin the iteration, using while\n",
        "        while year in range(ten):\n",
        "          #total = total + (total * 0.25) #cumulative profit sharing per tenure\n",
        "            total *= 1.25\n",
        "            year += 1 #year = year + 1\n",
        "            print('Year %i, your total investment : %.2f'%(year, total))\n",
        "    \n",
        "    #-----End of Code Here---------\n",
        "\n",
        "#Don't change everything here\n",
        "calculate_sugih()"
      ]
    },
    {
      "cell_type": "markdown",
      "metadata": {
        "id": "f4jJHQ502-7r"
      },
      "source": [
        "CODINGAN 2"
      ]
    },
    {
      "cell_type": "code",
      "execution_count": 1,
      "metadata": {
        "colab": {
          "base_uri": "https://localhost:8080/"
        },
        "id": "bSS-eIx43AIY",
        "outputId": "d2ccaa05-2ac4-4457-a820-9180460767a7"
      },
      "outputs": [
        {
          "ename": "ValueError",
          "evalue": "invalid literal for int() with base 10: ''",
          "output_type": "error",
          "traceback": [
            "\u001b[1;31m---------------------------------------------------------------------------\u001b[0m",
            "\u001b[1;31mValueError\u001b[0m                                Traceback (most recent call last)",
            "Cell \u001b[1;32mIn [1], line 28\u001b[0m\n\u001b[0;32m     22\u001b[0m           \u001b[38;5;28mprint\u001b[39m(\u001b[38;5;124m'\u001b[39m\u001b[38;5;124mYear \u001b[39m\u001b[38;5;132;01m{}\u001b[39;00m\u001b[38;5;124m, your total investment : \u001b[39m\u001b[38;5;132;01m{}\u001b[39;00m\u001b[38;5;124m'\u001b[39m\u001b[38;5;241m.\u001b[39mformat(year, total))\n\u001b[0;32m     23\u001b[0m           \u001b[38;5;66;03m#ten = None\u001b[39;00m\n\u001b[0;32m     24\u001b[0m   \n\u001b[0;32m     25\u001b[0m   \u001b[38;5;66;03m#-----End of Code Here---------\u001b[39;00m\n\u001b[0;32m     26\u001b[0m \n\u001b[0;32m     27\u001b[0m \u001b[38;5;66;03m#Don't change everything here\u001b[39;00m\n\u001b[1;32m---> 28\u001b[0m \u001b[43mcalculate_sugih\u001b[49m\u001b[43m(\u001b[49m\u001b[43m)\u001b[49m\n",
            "Cell \u001b[1;32mIn [1], line 2\u001b[0m, in \u001b[0;36mcalculate_sugih\u001b[1;34m()\u001b[0m\n\u001b[0;32m      1\u001b[0m \u001b[38;5;28;01mdef\u001b[39;00m \u001b[38;5;21mcalculate_sugih\u001b[39m():\n\u001b[1;32m----> 2\u001b[0m   cap \u001b[38;5;241m=\u001b[39m \u001b[38;5;28;43mint\u001b[39;49m\u001b[43m(\u001b[49m\u001b[38;5;28;43minput\u001b[39;49m\u001b[43m(\u001b[49m\u001b[38;5;124;43m'\u001b[39;49m\u001b[38;5;124;43mInput money capital : \u001b[39;49m\u001b[38;5;124;43m'\u001b[39;49m\u001b[43m)\u001b[49m\u001b[43m)\u001b[49m\n\u001b[0;32m      4\u001b[0m   \u001b[38;5;66;03m#-----Start Code Here---------\u001b[39;00m\n\u001b[0;32m      5\u001b[0m \n\u001b[0;32m      6\u001b[0m   \u001b[38;5;66;03m#first and seconde condition for maximum money capital and tenure limit\u001b[39;00m\n\u001b[0;32m      7\u001b[0m   \u001b[38;5;28;01mif\u001b[39;00m cap \u001b[38;5;241m>\u001b[39m \u001b[38;5;241m1000000000\u001b[39m:\n",
            "\u001b[1;31mValueError\u001b[0m: invalid literal for int() with base 10: ''"
          ]
        }
      ],
      "source": [
        "def calculate_sugih():\n",
        "  cap = int(input('Input money capital : '))\n",
        "\n",
        "  #-----Start Code Here---------\n",
        "\n",
        "  #first and seconde condition for maximum money capital and tenure limit\n",
        "  if cap > 1000000000:\n",
        "    print(\"Your investment is reaching our limit, we can’t handle this\")\n",
        "  elif cap <= 1000000000:\n",
        "    ten = int(input('Input investment tenure (year) : '))\n",
        "    if ten > 25:\n",
        "       print(\"Maximum tenure should be 25 years\")\n",
        "    else:\n",
        "        #initiate year\n",
        "        year = 0\n",
        "        total = 0\n",
        "        #begin the iteration, using while\n",
        "        while year < ten:\n",
        "          year = year + 1\n",
        "          total = cap + (25/100)*cap\n",
        "          cap = total\n",
        "          print('Year {}, your total investment : {}'.format(year, total))\n",
        "          #ten = None\n",
        "  \n",
        "  #-----End of Code Here---------\n",
        "\n",
        "#Don't change everything here\n",
        "calculate_sugih()"
      ]
    },
    {
      "cell_type": "markdown",
      "metadata": {
        "id": "FZ-iHRDa3Czm"
      },
      "source": [
        "CODINGAN 3"
      ]
    },
    {
      "cell_type": "code",
      "execution_count": null,
      "metadata": {
        "id": "YD-MnnyA3EAY"
      },
      "outputs": [],
      "source": [
        "def calculate_sugih():\n",
        "  cap = int(input('Input money capital : '))\n",
        "  ten = int(input('Input investment tenure (year) : '))\n",
        "\n",
        "  #-----Start Code Here---------\n",
        "\n",
        "  #first and seconde condition for maximum money capital and tenure limit\n",
        "  if cap>1000000000:\n",
        "    print(\"Your investment is reaching our limit, we can’t handle this\")\n",
        "  elif ten>25:\n",
        "    print(\"Maximum tenure should be 25 years\")\n",
        "  else:\n",
        "    #initiate year\n",
        "    year = 0\n",
        "    total = cap\n",
        "    #begin the iteration, using while\n",
        "    while ten>0:\n",
        "      total = total + (total*0.25)\n",
        "      year = year+1\n",
        "      print('Year {}, your total investment : {}'.format(year, total))\n",
        "      ten = ten-1\n",
        "  \n",
        "  #-----End of Code Here---------\n",
        "\n",
        "#Don't change everything here\n",
        "calculate_sugih()"
      ]
    }
  ],
  "metadata": {
    "colab": {
      "collapsed_sections": [],
      "provenance": []
    },
    "kernelspec": {
      "display_name": "Python 3.10.7 ('V-env': venv)",
      "language": "python",
      "name": "python3"
    },
    "language_info": {
      "codemirror_mode": {
        "name": "ipython",
        "version": 3
      },
      "file_extension": ".py",
      "mimetype": "text/x-python",
      "name": "python",
      "nbconvert_exporter": "python",
      "pygments_lexer": "ipython3",
      "version": "3.10.7"
    },
    "vscode": {
      "interpreter": {
        "hash": "8f70d1f1decf03d712e9ba56a0988a327d659e2167a2dc101d8e6b39162c6545"
      }
    }
  },
  "nbformat": 4,
  "nbformat_minor": 0
}
