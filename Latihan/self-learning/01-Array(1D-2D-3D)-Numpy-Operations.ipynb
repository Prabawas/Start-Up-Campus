{
  "cells": [
    {
      "cell_type": "code",
      "execution_count": 1,
      "metadata": {
        "colab": {
          "base_uri": "https://localhost:8080/"
        },
        "id": "G9coWan8AJox",
        "outputId": "0b449257-c292-494a-927d-74444e74d9ec"
      },
      "outputs": [
        {
          "name": "stdout",
          "output_type": "stream",
          "text": [
            "Perkalian:\n",
            " [[23 18]\n",
            " [24 18]]\n",
            "Pertambahan:\n",
            " ([6, 7], [6, 8])\n",
            "Pembagian:\n",
            " [[2.  2.5]\n",
            " [1.  3. ]]\n",
            "Pengurangan:\n",
            " ([2, 3], [0, 4])\n"
          ]
        }
      ],
      "source": [
        "# \"\"\"\n",
        "# Soal 2 :\n",
        "#     Matrix A  : Matrix B:\n",
        "#     [4, 5]      [2, 2]\n",
        "#     [3, 6]      [3, 2]\n",
        "# \"\"\"\n",
        "import numpy as np\n",
        "class Matriks:\n",
        "    def __init__(self,A,B):\n",
        "        self.A = A\n",
        "        self.B = B\n",
        "        \n",
        "    def perkalian(self):\n",
        "        return np.matmul(self.A,self.B)\n",
        "    def pertambahan(self):\n",
        "        Nilai=([0,0], [0,0])\n",
        "        for i in range(len(self.A)):\n",
        "            for j in range(len(self.A)):\n",
        "                Nilai[i][j] =self.A[i][j]+self.B[i][j]\n",
        "        return Nilai\n",
        "    def pembagian(self):\n",
        "        return np.divide(self.A,self.B)\n",
        "    def pengurangan(self):\n",
        "        Nilai=([0,0], [0,0])\n",
        "        for i in range(len(self.A)):\n",
        "            for j in range(len(self.A)):\n",
        "                Nilai[i][j] =self.A[i][j]-self.B[i][j]\n",
        "        return Nilai\n",
        "\n",
        "A=np.array([[4,5],[3,6]])\n",
        "B=np.array([[2,2],[3,2]])\n",
        "Obj1 = Matriks(A,B)\n",
        "\n",
        "print(\"Perkalian:\\n\",Obj1.perkalian())\n",
        "print(\"Pertambahan:\\n\",Obj1.pertambahan())\n",
        "print(\"Pembagian:\\n\",Obj1.pembagian())\n",
        "print(\"Pengurangan:\\n\",Obj1.pengurangan())\n"
      ]
    },
    {
      "cell_type": "markdown",
      "metadata": {},
      "source": []
    },
    {
      "cell_type": "markdown",
      "metadata": {
        "id": "Bv53pxnHWHMm"
      },
      "source": [
        "\n",
        "https://www.hackerrank.com/domains/data-structures\n",
        "mungkin ini salah satu untuk competitive prog\n"
      ]
    }
  ],
  "metadata": {
    "colab": {
      "collapsed_sections": [],
      "provenance": []
    },
    "kernelspec": {
      "display_name": "Python 3.10.7 ('V-env': venv)",
      "language": "python",
      "name": "python3"
    },
    "language_info": {
      "codemirror_mode": {
        "name": "ipython",
        "version": 3
      },
      "file_extension": ".py",
      "mimetype": "text/x-python",
      "name": "python",
      "nbconvert_exporter": "python",
      "pygments_lexer": "ipython3",
      "version": "3.10.7"
    },
    "vscode": {
      "interpreter": {
        "hash": "8f70d1f1decf03d712e9ba56a0988a327d659e2167a2dc101d8e6b39162c6545"
      }
    }
  },
  "nbformat": 4,
  "nbformat_minor": 0
}
